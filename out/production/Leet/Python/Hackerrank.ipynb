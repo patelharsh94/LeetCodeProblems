{
 "cells": [
  {
   "cell_type": "code",
   "execution_count": 1,
   "metadata": {},
   "outputs": [],
   "source": [
    "import math\n",
    "import os\n",
    "import random\n",
    "import re\n",
    "import sys"
   ]
  },
  {
   "cell_type": "code",
   "execution_count": 24,
   "metadata": {},
   "outputs": [],
   "source": [
    "def minimumBribes(q):\n",
    "    total_bribes = 0\n",
    "    current_bribe = 0\n",
    "    compare_num = -1\n",
    "    for i in range(0, len(q)-1):\n",
    "        curr_num = q[i]\n",
    "        next_num = q[i+1]\n",
    "        \n",
    "        print('current num: ', curr_num)\n",
    "        print('next_num: ', next_num)\n",
    "        print('compare_num: ', compare_num)\n",
    "        print('current_bribe: ', current_bribe)\n",
    "        print('total_bribes: ', total_bribes)\n",
    "        print('')\n",
    "        \n",
    "        if curr_num > next_num or compare_num > next_num:\n",
    "            current_bribe += 1\n",
    "            compare_num = curr_num\n",
    "        else:\n",
    "            if current_bribe > 2:\n",
    "                print(\"Too chaotic\")\n",
    "                break\n",
    "            else:\n",
    "                total_bribes += current_bribe\n",
    "                current_bribe = 0\n",
    "            compare_num = next_num\n",
    "    \n",
    "    if total_bribes < 3:\n",
    "        print(total_bribes + current_bribe)\n",
    "    else:\n",
    "        print(\"Too chaotic\")"
   ]
  },
  {
   "cell_type": "code",
   "execution_count": 25,
   "metadata": {},
   "outputs": [
    {
     "name": "stdout",
     "output_type": "stream",
     "text": [
      "current num:  2\n",
      "next_num:  1\n",
      "compare_num:  -1\n",
      "current_bribe:  0\n",
      "total_bribes:  0\n",
      "\n",
      "current num:  1\n",
      "next_num:  5\n",
      "compare_num:  2\n",
      "current_bribe:  1\n",
      "total_bribes:  0\n",
      "\n",
      "current num:  5\n",
      "next_num:  3\n",
      "compare_num:  5\n",
      "current_bribe:  0\n",
      "total_bribes:  1\n",
      "\n",
      "current num:  3\n",
      "next_num:  4\n",
      "compare_num:  5\n",
      "current_bribe:  1\n",
      "total_bribes:  1\n",
      "\n",
      "3\n"
     ]
    }
   ],
   "source": [
    "minimumBribes([2, 1, 5, 3, 4])"
   ]
  },
  {
   "cell_type": "code",
   "execution_count": null,
   "metadata": {},
   "outputs": [],
   "source": []
  },
  {
   "cell_type": "code",
   "execution_count": null,
   "metadata": {},
   "outputs": [],
   "source": []
  }
 ],
 "metadata": {
  "kernelspec": {
   "display_name": "Python 3",
   "language": "python",
   "name": "python3"
  },
  "language_info": {
   "codemirror_mode": {
    "name": "ipython",
    "version": 3
   },
   "file_extension": ".py",
   "mimetype": "text/x-python",
   "name": "python",
   "nbconvert_exporter": "python",
   "pygments_lexer": "ipython3",
   "version": "3.8.5"
  }
 },
 "nbformat": 4,
 "nbformat_minor": 4
}
